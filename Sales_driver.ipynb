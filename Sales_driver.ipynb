{
 "cells": [
  {
   "cell_type": "code",
   "execution_count": 1,
   "id": "a69845d1",
   "metadata": {},
   "outputs": [],
   "source": [
    "import os\n",
    "\n",
    "import random\n",
    "import pandas as pd\n",
    "import numpy as np\n",
    "import matplotlib.pyplot as plt\n",
    "import seaborn as sns\n",
    "\n",
    "import pandas as pd\n",
    "import numpy as np\n",
    "import missingno as msno\n",
    "import matplotlib.pyplot as plt\n",
    "import seaborn as sns\n",
    "import plotly.express as px\n",
    "import plotly.graph_objects as go\n",
    "from plotly.subplots import make_subplots\n",
    "import warnings\n",
    "warnings.filterwarnings('ignore')\n",
    "\n",
    "from sklearn.preprocessing import StandardScaler\n",
    "from sklearn.decomposition import PCA\n",
    "import statsmodels.api as sm\n",
    "from sklearn.linear_model import LinearRegression\n",
    "from sklearn.linear_model import Lasso\n",
    "from sklearn.model_selection import train_test_split\n",
    "import scipy.stats as stats\n",
    "from sklearn.ensemble import RandomForestRegressor\n",
    "\n",
    "from sklearn.metrics import r2_score\n",
    "from sklearn.metrics import mean_squared_error,mean_absolute_percentage_error\n",
    "from statsmodels.stats.outliers_influence import variance_inflation_factor\n",
    "\n",
    "from sklearn.model_selection import GridSearchCV\n",
    "from sklearn.model_selection import cross_val_score\n",
    "\n",
    "from sklearn.preprocessing import StandardScaler\n",
    "from sklearn.preprocessing import LabelEncoder\n",
    "\n",
    "from sklearn.tree import DecisionTreeClassifier\n",
    "from sklearn.ensemble import RandomForestClassifier\n",
    "from sklearn.naive_bayes import GaussianNB\n",
    "from sklearn.neighbors import KNeighborsClassifier\n",
    "from sklearn.svm import SVC\n",
    "from sklearn.neural_network import MLPClassifier\n",
    "from sklearn.ensemble import AdaBoostClassifier\n",
    "from sklearn.ensemble import GradientBoostingClassifier\n",
    "from sklearn.ensemble import ExtraTreesClassifier\n",
    "from sklearn.linear_model import LogisticRegression\n",
    "from sklearn.model_selection import train_test_split\n",
    "from sklearn.metrics import accuracy_score\n",
    "#from xgboost import XGBClassifier\n",
    "#from catboost import CatBoostClassifier\n",
    "from sklearn import metrics\n",
    "from sklearn.metrics import roc_curve\n",
    "from sklearn.metrics import recall_score, confusion_matrix, precision_score, f1_score, accuracy_score, classification_report\n",
    "#from pandas_profiling import ProfileReport\n",
    "import warnings\n",
    "warnings.filterwarnings(\"ignore\", category=FutureWarning)"
   ]
  },
  {
   "cell_type": "code",
   "execution_count": 2,
   "id": "688ecf4e",
   "metadata": {},
   "outputs": [],
   "source": [
    "df1 = pd.read_csv(\"google_search_data.csv\")\n",
    "df2 = pd.read_csv(\"product_manufacturer_list.csv\")\n",
    "df3 = pd.read_csv(\"sales_data.csv\")\n",
    "df4 = pd.read_csv(\"social_media_data.csv\")\n",
    "df5 = pd.read_csv(\"Theme_list.csv\")\n",
    "df6= pd.read_csv(\"Theme_product_list.csv\")"
   ]
  },
  {
   "cell_type": "code",
   "execution_count": 3,
   "id": "76397e22",
   "metadata": {},
   "outputs": [],
   "source": [
    "df1.columns = df1.columns.str.lower()\n",
    "df2.columns = df2.columns.str.lower()\n",
    "df3.columns = df3.columns.str.lower()\n",
    "df4.columns = df4.columns.str.lower()\n",
    "df5.columns = df5.columns.str.lower()\n",
    "df6.columns = df6.columns.str.lower()"
   ]
  },
  {
   "cell_type": "code",
   "execution_count": 4,
   "id": "72bcd6d4",
   "metadata": {},
   "outputs": [
    {
     "data": {
      "text/html": [
       "<div>\n",
       "<style scoped>\n",
       "    .dataframe tbody tr th:only-of-type {\n",
       "        vertical-align: middle;\n",
       "    }\n",
       "\n",
       "    .dataframe tbody tr th {\n",
       "        vertical-align: top;\n",
       "    }\n",
       "\n",
       "    .dataframe thead th {\n",
       "        text-align: right;\n",
       "    }\n",
       "</style>\n",
       "<table border=\"1\" class=\"dataframe\">\n",
       "  <thead>\n",
       "    <tr style=\"text-align: right;\">\n",
       "      <th></th>\n",
       "      <th>date</th>\n",
       "      <th>platform</th>\n",
       "      <th>searchvolume</th>\n",
       "      <th>claim_id</th>\n",
       "      <th>week_number</th>\n",
       "      <th>year_new</th>\n",
       "    </tr>\n",
       "  </thead>\n",
       "  <tbody>\n",
       "    <tr>\n",
       "      <th>0</th>\n",
       "      <td>05-01-2014</td>\n",
       "      <td>google</td>\n",
       "      <td>349</td>\n",
       "      <td>916</td>\n",
       "      <td>1</td>\n",
       "      <td>2014</td>\n",
       "    </tr>\n",
       "    <tr>\n",
       "      <th>1</th>\n",
       "      <td>06-01-2014</td>\n",
       "      <td>google</td>\n",
       "      <td>349</td>\n",
       "      <td>916</td>\n",
       "      <td>2</td>\n",
       "      <td>2014</td>\n",
       "    </tr>\n",
       "    <tr>\n",
       "      <th>2</th>\n",
       "      <td>07-01-2014</td>\n",
       "      <td>google</td>\n",
       "      <td>697</td>\n",
       "      <td>916</td>\n",
       "      <td>2</td>\n",
       "      <td>2014</td>\n",
       "    </tr>\n",
       "    <tr>\n",
       "      <th>3</th>\n",
       "      <td>10-01-2014</td>\n",
       "      <td>google</td>\n",
       "      <td>349</td>\n",
       "      <td>916</td>\n",
       "      <td>2</td>\n",
       "      <td>2014</td>\n",
       "    </tr>\n",
       "    <tr>\n",
       "      <th>4</th>\n",
       "      <td>20-01-2014</td>\n",
       "      <td>google</td>\n",
       "      <td>697</td>\n",
       "      <td>916</td>\n",
       "      <td>4</td>\n",
       "      <td>2014</td>\n",
       "    </tr>\n",
       "    <tr>\n",
       "      <th>...</th>\n",
       "      <td>...</td>\n",
       "      <td>...</td>\n",
       "      <td>...</td>\n",
       "      <td>...</td>\n",
       "      <td>...</td>\n",
       "      <td>...</td>\n",
       "    </tr>\n",
       "    <tr>\n",
       "      <th>181560</th>\n",
       "      <td>05-09-2019</td>\n",
       "      <td>walmart</td>\n",
       "      <td>125</td>\n",
       "      <td>980</td>\n",
       "      <td>36</td>\n",
       "      <td>2019</td>\n",
       "    </tr>\n",
       "    <tr>\n",
       "      <th>181561</th>\n",
       "      <td>22-09-2019</td>\n",
       "      <td>walmart</td>\n",
       "      <td>84</td>\n",
       "      <td>980</td>\n",
       "      <td>38</td>\n",
       "      <td>2019</td>\n",
       "    </tr>\n",
       "    <tr>\n",
       "      <th>181562</th>\n",
       "      <td>26-09-2019</td>\n",
       "      <td>walmart</td>\n",
       "      <td>42</td>\n",
       "      <td>980</td>\n",
       "      <td>39</td>\n",
       "      <td>2019</td>\n",
       "    </tr>\n",
       "    <tr>\n",
       "      <th>181563</th>\n",
       "      <td>15-07-2019</td>\n",
       "      <td>walmart</td>\n",
       "      <td>42</td>\n",
       "      <td>622</td>\n",
       "      <td>29</td>\n",
       "      <td>2019</td>\n",
       "    </tr>\n",
       "    <tr>\n",
       "      <th>181564</th>\n",
       "      <td>02-09-2019</td>\n",
       "      <td>walmart</td>\n",
       "      <td>42</td>\n",
       "      <td>689</td>\n",
       "      <td>36</td>\n",
       "      <td>2019</td>\n",
       "    </tr>\n",
       "  </tbody>\n",
       "</table>\n",
       "<p>181565 rows × 6 columns</p>\n",
       "</div>"
      ],
      "text/plain": [
       "              date platform  searchvolume  claim_id  week_number  year_new\n",
       "0       05-01-2014   google           349       916            1      2014\n",
       "1       06-01-2014   google           349       916            2      2014\n",
       "2       07-01-2014   google           697       916            2      2014\n",
       "3       10-01-2014   google           349       916            2      2014\n",
       "4       20-01-2014   google           697       916            4      2014\n",
       "...            ...      ...           ...       ...          ...       ...\n",
       "181560  05-09-2019  walmart           125       980           36      2019\n",
       "181561  22-09-2019  walmart            84       980           38      2019\n",
       "181562  26-09-2019  walmart            42       980           39      2019\n",
       "181563  15-07-2019  walmart            42       622           29      2019\n",
       "181564  02-09-2019  walmart            42       689           36      2019\n",
       "\n",
       "[181565 rows x 6 columns]"
      ]
     },
     "execution_count": 4,
     "metadata": {},
     "output_type": "execute_result"
    }
   ],
   "source": [
    "df1"
   ]
  },
  {
   "cell_type": "code",
   "execution_count": 5,
   "id": "7442974b",
   "metadata": {},
   "outputs": [
    {
     "data": {
      "text/html": [
       "<div>\n",
       "<style scoped>\n",
       "    .dataframe tbody tr th:only-of-type {\n",
       "        vertical-align: middle;\n",
       "    }\n",
       "\n",
       "    .dataframe tbody tr th {\n",
       "        vertical-align: top;\n",
       "    }\n",
       "\n",
       "    .dataframe thead th {\n",
       "        text-align: right;\n",
       "    }\n",
       "</style>\n",
       "<table border=\"1\" class=\"dataframe\">\n",
       "  <thead>\n",
       "    <tr style=\"text-align: right;\">\n",
       "      <th></th>\n",
       "      <th>theme id</th>\n",
       "      <th>published_date</th>\n",
       "      <th>total_post</th>\n",
       "    </tr>\n",
       "  </thead>\n",
       "  <tbody>\n",
       "    <tr>\n",
       "      <th>0</th>\n",
       "      <td>148.0</td>\n",
       "      <td>10-01-2015</td>\n",
       "      <td>76</td>\n",
       "    </tr>\n",
       "    <tr>\n",
       "      <th>1</th>\n",
       "      <td>148.0</td>\n",
       "      <td>10-10-2015</td>\n",
       "      <td>31</td>\n",
       "    </tr>\n",
       "    <tr>\n",
       "      <th>2</th>\n",
       "      <td>148.0</td>\n",
       "      <td>10-11-2015</td>\n",
       "      <td>65</td>\n",
       "    </tr>\n",
       "    <tr>\n",
       "      <th>3</th>\n",
       "      <td>148.0</td>\n",
       "      <td>10-12-2015</td>\n",
       "      <td>88</td>\n",
       "    </tr>\n",
       "    <tr>\n",
       "      <th>4</th>\n",
       "      <td>148.0</td>\n",
       "      <td>10/13/2015</td>\n",
       "      <td>85</td>\n",
       "    </tr>\n",
       "    <tr>\n",
       "      <th>...</th>\n",
       "      <td>...</td>\n",
       "      <td>...</td>\n",
       "      <td>...</td>\n",
       "    </tr>\n",
       "    <tr>\n",
       "      <th>533385</th>\n",
       "      <td>876.0</td>\n",
       "      <td>09-05-2019</td>\n",
       "      <td>4658</td>\n",
       "    </tr>\n",
       "    <tr>\n",
       "      <th>533386</th>\n",
       "      <td>876.0</td>\n",
       "      <td>09-06-2019</td>\n",
       "      <td>3731</td>\n",
       "    </tr>\n",
       "    <tr>\n",
       "      <th>533387</th>\n",
       "      <td>876.0</td>\n",
       "      <td>09-07-2019</td>\n",
       "      <td>2336</td>\n",
       "    </tr>\n",
       "    <tr>\n",
       "      <th>533388</th>\n",
       "      <td>876.0</td>\n",
       "      <td>09-08-2019</td>\n",
       "      <td>1374</td>\n",
       "    </tr>\n",
       "    <tr>\n",
       "      <th>533389</th>\n",
       "      <td>876.0</td>\n",
       "      <td>09-09-2019</td>\n",
       "      <td>1442</td>\n",
       "    </tr>\n",
       "  </tbody>\n",
       "</table>\n",
       "<p>533390 rows × 3 columns</p>\n",
       "</div>"
      ],
      "text/plain": [
       "        theme id published_date  total_post\n",
       "0          148.0     10-01-2015          76\n",
       "1          148.0     10-10-2015          31\n",
       "2          148.0     10-11-2015          65\n",
       "3          148.0     10-12-2015          88\n",
       "4          148.0     10/13/2015          85\n",
       "...          ...            ...         ...\n",
       "533385     876.0     09-05-2019        4658\n",
       "533386     876.0     09-06-2019        3731\n",
       "533387     876.0     09-07-2019        2336\n",
       "533388     876.0     09-08-2019        1374\n",
       "533389     876.0     09-09-2019        1442\n",
       "\n",
       "[533390 rows x 3 columns]"
      ]
     },
     "execution_count": 5,
     "metadata": {},
     "output_type": "execute_result"
    }
   ],
   "source": [
    "df4"
   ]
  },
  {
   "cell_type": "code",
   "execution_count": 6,
   "id": "d4d4e5df",
   "metadata": {},
   "outputs": [],
   "source": [
    "df10 = pd.merge(df3,df6, on='product_id', how = 'inner')"
   ]
  },
  {
   "cell_type": "code",
   "execution_count": 7,
   "id": "b749a9b7",
   "metadata": {},
   "outputs": [
    {
     "data": {
      "text/html": [
       "<div>\n",
       "<style scoped>\n",
       "    .dataframe tbody tr th:only-of-type {\n",
       "        vertical-align: middle;\n",
       "    }\n",
       "\n",
       "    .dataframe tbody tr th {\n",
       "        vertical-align: top;\n",
       "    }\n",
       "\n",
       "    .dataframe thead th {\n",
       "        text-align: right;\n",
       "    }\n",
       "</style>\n",
       "<table border=\"1\" class=\"dataframe\">\n",
       "  <thead>\n",
       "    <tr style=\"text-align: right;\">\n",
       "      <th></th>\n",
       "      <th>system_calendar_key_n</th>\n",
       "      <th>product_id</th>\n",
       "      <th>sales_dollars_value</th>\n",
       "      <th>sales_units_value</th>\n",
       "      <th>sales_lbs_value</th>\n",
       "      <th>claim_id</th>\n",
       "    </tr>\n",
       "  </thead>\n",
       "  <tbody>\n",
       "    <tr>\n",
       "      <th>0</th>\n",
       "      <td>20160109</td>\n",
       "      <td>1</td>\n",
       "      <td>13927.0</td>\n",
       "      <td>934</td>\n",
       "      <td>18680</td>\n",
       "      <td>0</td>\n",
       "    </tr>\n",
       "    <tr>\n",
       "      <th>1</th>\n",
       "      <td>20160123</td>\n",
       "      <td>1</td>\n",
       "      <td>12628.0</td>\n",
       "      <td>878</td>\n",
       "      <td>17564</td>\n",
       "      <td>0</td>\n",
       "    </tr>\n",
       "    <tr>\n",
       "      <th>2</th>\n",
       "      <td>20160206</td>\n",
       "      <td>1</td>\n",
       "      <td>11379.0</td>\n",
       "      <td>810</td>\n",
       "      <td>16200</td>\n",
       "      <td>0</td>\n",
       "    </tr>\n",
       "    <tr>\n",
       "      <th>3</th>\n",
       "      <td>20160130</td>\n",
       "      <td>1</td>\n",
       "      <td>11568.0</td>\n",
       "      <td>821</td>\n",
       "      <td>16424</td>\n",
       "      <td>0</td>\n",
       "    </tr>\n",
       "    <tr>\n",
       "      <th>4</th>\n",
       "      <td>20160213</td>\n",
       "      <td>1</td>\n",
       "      <td>10959.0</td>\n",
       "      <td>784</td>\n",
       "      <td>15682</td>\n",
       "      <td>0</td>\n",
       "    </tr>\n",
       "    <tr>\n",
       "      <th>...</th>\n",
       "      <td>...</td>\n",
       "      <td>...</td>\n",
       "      <td>...</td>\n",
       "      <td>...</td>\n",
       "      <td>...</td>\n",
       "      <td>...</td>\n",
       "    </tr>\n",
       "    <tr>\n",
       "      <th>7767415</th>\n",
       "      <td>20191005</td>\n",
       "      <td>56817</td>\n",
       "      <td>699.0</td>\n",
       "      <td>37</td>\n",
       "      <td>129</td>\n",
       "      <td>0</td>\n",
       "    </tr>\n",
       "    <tr>\n",
       "      <th>7767416</th>\n",
       "      <td>20191005</td>\n",
       "      <td>56818</td>\n",
       "      <td>486.0</td>\n",
       "      <td>7</td>\n",
       "      <td>158</td>\n",
       "      <td>0</td>\n",
       "    </tr>\n",
       "    <tr>\n",
       "      <th>7767417</th>\n",
       "      <td>20191005</td>\n",
       "      <td>56924</td>\n",
       "      <td>53.0</td>\n",
       "      <td>3</td>\n",
       "      <td>16</td>\n",
       "      <td>8</td>\n",
       "    </tr>\n",
       "    <tr>\n",
       "      <th>7767418</th>\n",
       "      <td>20191005</td>\n",
       "      <td>57045</td>\n",
       "      <td>6.0</td>\n",
       "      <td>1</td>\n",
       "      <td>7</td>\n",
       "      <td>0</td>\n",
       "    </tr>\n",
       "    <tr>\n",
       "      <th>7767419</th>\n",
       "      <td>20191005</td>\n",
       "      <td>57081</td>\n",
       "      <td>2.0</td>\n",
       "      <td>1</td>\n",
       "      <td>0</td>\n",
       "      <td>0</td>\n",
       "    </tr>\n",
       "  </tbody>\n",
       "</table>\n",
       "<p>7767420 rows × 6 columns</p>\n",
       "</div>"
      ],
      "text/plain": [
       "         system_calendar_key_n  product_id  sales_dollars_value  \\\n",
       "0                     20160109           1              13927.0   \n",
       "1                     20160123           1              12628.0   \n",
       "2                     20160206           1              11379.0   \n",
       "3                     20160130           1              11568.0   \n",
       "4                     20160213           1              10959.0   \n",
       "...                        ...         ...                  ...   \n",
       "7767415               20191005       56817                699.0   \n",
       "7767416               20191005       56818                486.0   \n",
       "7767417               20191005       56924                 53.0   \n",
       "7767418               20191005       57045                  6.0   \n",
       "7767419               20191005       57081                  2.0   \n",
       "\n",
       "         sales_units_value  sales_lbs_value  claim_id  \n",
       "0                      934            18680         0  \n",
       "1                      878            17564         0  \n",
       "2                      810            16200         0  \n",
       "3                      821            16424         0  \n",
       "4                      784            15682         0  \n",
       "...                    ...              ...       ...  \n",
       "7767415                 37              129         0  \n",
       "7767416                  7              158         0  \n",
       "7767417                  3               16         8  \n",
       "7767418                  1                7         0  \n",
       "7767419                  1                0         0  \n",
       "\n",
       "[7767420 rows x 6 columns]"
      ]
     },
     "execution_count": 7,
     "metadata": {},
     "output_type": "execute_result"
    }
   ],
   "source": [
    "df10"
   ]
  },
  {
   "cell_type": "code",
   "execution_count": 8,
   "id": "ddb72092",
   "metadata": {},
   "outputs": [],
   "source": [
    "dict1 = dict(zip(df1['claim_id'],df1['searchvolume']))"
   ]
  },
  {
   "cell_type": "code",
   "execution_count": 9,
   "id": "5d508255",
   "metadata": {},
   "outputs": [
    {
     "data": {
      "text/plain": [
       "{916: 79,\n",
       " 8: 42,\n",
       " 555: 42,\n",
       " 510: 42,\n",
       " 39: 39,\n",
       " 40: 82,\n",
       " 543: 1344,\n",
       " 847: 499,\n",
       " 999: 515,\n",
       " 747: 125,\n",
       " 922: 42,\n",
       " 754: 4,\n",
       " 683: 484,\n",
       " 930: 469,\n",
       " 702: 62,\n",
       " 616: 115,\n",
       " 782: 155,\n",
       " 965: 3399,\n",
       " 173: 1561,\n",
       " 100: 814,\n",
       " 889: 227,\n",
       " 151: 6887,\n",
       " 707: 148,\n",
       " 903: 75,\n",
       " 191: 42,\n",
       " 844: 1179,\n",
       " 567: 389,\n",
       " 192: 529,\n",
       " 163: 2,\n",
       " 852: 860,\n",
       " 931: 1838,\n",
       " 860: 1309,\n",
       " 152: 3879,\n",
       " 901: 13268,\n",
       " 907: 5497,\n",
       " 761: 1457,\n",
       " 944: 39,\n",
       " 613: 125,\n",
       " 974: 41,\n",
       " 594: 42,\n",
       " 558: 39,\n",
       " 657: 21704,\n",
       " 741: 41565,\n",
       " 574: 282,\n",
       " 650: 118,\n",
       " 713: 41,\n",
       " 620: 184,\n",
       " 979: 1501,\n",
       " 904: 42,\n",
       " 207: 479,\n",
       " 937: 83,\n",
       " 839: 64,\n",
       " 813: 396,\n",
       " 556: 31,\n",
       " 430: 42,\n",
       " 908: 509,\n",
       " 516: 42,\n",
       " 958: 125,\n",
       " 755: 186,\n",
       " 967: 84,\n",
       " 81: 222,\n",
       " 869: 39550,\n",
       " 587: 256,\n",
       " 142: 26,\n",
       " 788: 14,\n",
       " 870: 190,\n",
       " 720: 660,\n",
       " 437: 2759,\n",
       " 668: 42,\n",
       " 438: 42,\n",
       " 65: 544,\n",
       " 211: 143,\n",
       " 576: 582,\n",
       " 519: 81,\n",
       " 928: 4,\n",
       " 959: 42,\n",
       " 605: 64,\n",
       " 526: 463,\n",
       " 600: 7274,\n",
       " 918: 84,\n",
       " 541: 42,\n",
       " 177: 1052,\n",
       " 777: 113,\n",
       " 583: 42,\n",
       " 632: 276,\n",
       " 507: 219,\n",
       " 823: 1099,\n",
       " 187: 416,\n",
       " 615: 185,\n",
       " 158: 41,\n",
       " 670: 499,\n",
       " 770: 42,\n",
       " 884: 42,\n",
       " 682: 276,\n",
       " 634: 42,\n",
       " 732: 116,\n",
       " 75: 42,\n",
       " 608: 3309,\n",
       " 531: 1143,\n",
       " 964: 42,\n",
       " 946: 150,\n",
       " 227: 42,\n",
       " 684: 155,\n",
       " 929: 42,\n",
       " 228: 271,\n",
       " 980: 42,\n",
       " 601: 199,\n",
       " 622: 42,\n",
       " 906: 466,\n",
       " 803: 422,\n",
       " 689: 42,\n",
       " 148: 423,\n",
       " 816: 90,\n",
       " 915: 1,\n",
       " 984: 89,\n",
       " 120: 297,\n",
       " 536: 5540,\n",
       " 704: 206,\n",
       " 780: 2,\n",
       " 887: 84,\n",
       " 509: 824,\n",
       " 785: 246,\n",
       " 821: 265,\n",
       " 867: 186,\n",
       " 877: 378,\n",
       " 789: 248,\n",
       " 618: 109,\n",
       " 842: 41,\n",
       " 913: 1445,\n",
       " 737: 34,\n",
       " 743: 24,\n",
       " 193: 680,\n",
       " 659: 159,\n",
       " 197: 621,\n",
       " 138: 214,\n",
       " 900: 150,\n",
       " 970: 164,\n",
       " 982: 4,\n",
       " 799: 2,\n",
       " 681: 1,\n",
       " 79: 77,\n",
       " 738: 25,\n",
       " 384: 74,\n",
       " 716: 114,\n",
       " 677: 2,\n",
       " 977: 56,\n",
       " 948: 147,\n",
       " 393: 25,\n",
       " 101: 8,\n",
       " 941: 2,\n",
       " 139: 13,\n",
       " 125: 14,\n",
       " 985: 38,\n",
       " 981: 19,\n",
       " 566: 2,\n",
       " 832: 2,\n",
       " 514: 3,\n",
       " 843: 84,\n",
       " 606: 135,\n",
       " 433: 41}"
      ]
     },
     "execution_count": 9,
     "metadata": {},
     "output_type": "execute_result"
    }
   ],
   "source": [
    "dict1"
   ]
  },
  {
   "cell_type": "code",
   "execution_count": null,
   "id": "583b160e",
   "metadata": {},
   "outputs": [],
   "source": [
    "df10['searchvolume'] = df10['claim_id'].map(dict1)"
   ]
  },
  {
   "cell_type": "code",
   "execution_count": null,
   "id": "d85db604",
   "metadata": {},
   "outputs": [],
   "source": [
    "dict11 = dict(zip(df4['published_date'],df4['total_post']))"
   ]
  },
  {
   "cell_type": "code",
   "execution_count": null,
   "id": "fca59bca",
   "metadata": {},
   "outputs": [],
   "source": [
    "dict11"
   ]
  },
  {
   "cell_type": "code",
   "execution_count": null,
   "id": "f12f9cbf",
   "metadata": {},
   "outputs": [],
   "source": [
    "df1['total_post'] = df1['date'].map(dict11)"
   ]
  },
  {
   "cell_type": "code",
   "execution_count": null,
   "id": "e6df648d",
   "metadata": {
    "scrolled": true
   },
   "outputs": [],
   "source": [
    "df1"
   ]
  },
  {
   "cell_type": "code",
   "execution_count": null,
   "id": "e3c71d1f",
   "metadata": {},
   "outputs": [],
   "source": [
    "dict12 = dict(zip(df1['claim_id'],df1['total_post']))"
   ]
  },
  {
   "cell_type": "code",
   "execution_count": null,
   "id": "c1dbb23a",
   "metadata": {},
   "outputs": [],
   "source": [
    "df10['total_post'] = df10['claim_id'].map(dict12)"
   ]
  },
  {
   "cell_type": "code",
   "execution_count": null,
   "id": "6f3cc1c2",
   "metadata": {},
   "outputs": [],
   "source": [
    "df10"
   ]
  },
  {
   "cell_type": "code",
   "execution_count": null,
   "id": "a6d2cc04",
   "metadata": {},
   "outputs": [],
   "source": [
    "df10.isnull().sum()"
   ]
  },
  {
   "cell_type": "code",
   "execution_count": null,
   "id": "1d3ba318",
   "metadata": {},
   "outputs": [],
   "source": [
    "df10.dropna(inplace = True)"
   ]
  },
  {
   "cell_type": "code",
   "execution_count": null,
   "id": "ae152e29",
   "metadata": {},
   "outputs": [],
   "source": [
    "df11 = df10[['claim_id','searchvolume','total_post','sales_lbs_value','sales_units_value','sales_dollars_value']]"
   ]
  },
  {
   "cell_type": "code",
   "execution_count": null,
   "id": "c6b7b97f",
   "metadata": {},
   "outputs": [],
   "source": [
    "df11"
   ]
  },
  {
   "cell_type": "code",
   "execution_count": null,
   "id": "76b37043",
   "metadata": {},
   "outputs": [],
   "source": [
    "df10"
   ]
  },
  {
   "cell_type": "markdown",
   "id": "c5fbc489",
   "metadata": {},
   "source": [
    "# Estimate the impact on sales due to social trends, search trends, own price and competitor effects"
   ]
  },
  {
   "cell_type": "markdown",
   "id": "0df3ae48",
   "metadata": {},
   "source": [
    "# Mutiple Regression Model"
   ]
  },
  {
   "cell_type": "code",
   "execution_count": null,
   "id": "b9c9c410",
   "metadata": {},
   "outputs": [],
   "source": [
    "X = df11.iloc[:, :-1].values\n",
    "y = df11.iloc[:, -1].values"
   ]
  },
  {
   "cell_type": "code",
   "execution_count": null,
   "id": "b668144b",
   "metadata": {
    "scrolled": true
   },
   "outputs": [],
   "source": [
    "print(X)"
   ]
  },
  {
   "cell_type": "code",
   "execution_count": null,
   "id": "b4eb3799",
   "metadata": {},
   "outputs": [],
   "source": [
    "print(y)"
   ]
  },
  {
   "cell_type": "code",
   "execution_count": null,
   "id": "a505219d",
   "metadata": {},
   "outputs": [],
   "source": [
    "from sklearn.model_selection import train_test_split\n",
    "X_train, X_test, y_train, y_test = train_test_split(X, y, test_size = 0.2, random_state = 0)"
   ]
  },
  {
   "cell_type": "code",
   "execution_count": null,
   "id": "7f3d3759",
   "metadata": {},
   "outputs": [],
   "source": [
    "from sklearn.linear_model import LinearRegression\n",
    "regressor = LinearRegression()\n",
    "regressor.fit(X_train, y_train)"
   ]
  },
  {
   "cell_type": "code",
   "execution_count": null,
   "id": "a621f0eb",
   "metadata": {},
   "outputs": [],
   "source": [
    "y_pred = regressor.predict(X_test)\n",
    "np.set_printoptions(precision=2)\n",
    "print(np.concatenate((y_pred.reshape(len(y_pred),1), y_test.reshape(len(y_test),1)),1))"
   ]
  },
  {
   "cell_type": "code",
   "execution_count": null,
   "id": "b6d26fc5",
   "metadata": {},
   "outputs": [],
   "source": [
    "from sklearn.metrics import r2_score\n",
    "r2_score(y_test, y_pred)"
   ]
  },
  {
   "cell_type": "markdown",
   "id": "a85146d3",
   "metadata": {},
   "source": [
    "# Polynomial Regression"
   ]
  },
  {
   "cell_type": "code",
   "execution_count": null,
   "id": "f0751502",
   "metadata": {},
   "outputs": [],
   "source": [
    "X = df11.iloc[:, :-1].values\n",
    "y = df11.iloc[:, -1].values"
   ]
  },
  {
   "cell_type": "code",
   "execution_count": null,
   "id": "0e0f0eee",
   "metadata": {},
   "outputs": [],
   "source": [
    "df11"
   ]
  },
  {
   "cell_type": "code",
   "execution_count": null,
   "id": "7a42ebca",
   "metadata": {},
   "outputs": [],
   "source": [
    "from sklearn.model_selection import train_test_split\n",
    "X_train, X_test, y_train, y_test = train_test_split(X, y, test_size = 0.2, random_state = 0)"
   ]
  },
  {
   "cell_type": "code",
   "execution_count": null,
   "id": "cec2e6f4",
   "metadata": {},
   "outputs": [],
   "source": [
    "from sklearn.preprocessing import PolynomialFeatures\n",
    "from sklearn.linear_model import LinearRegression\n",
    "poly_reg = PolynomialFeatures(degree = 4)\n",
    "X_poly = poly_reg.fit_transform(X_train)\n",
    "regressor = LinearRegression()\n",
    "regressor.fit(X_poly, y_train)"
   ]
  },
  {
   "cell_type": "code",
   "execution_count": null,
   "id": "a4075511",
   "metadata": {},
   "outputs": [],
   "source": [
    "y_pred = regressor.predict(poly_reg.transform(X_test))\n",
    "np.set_printoptions(precision=2)\n",
    "print(np.concatenate((y_pred.reshape(len(y_pred),1), y_test.reshape(len(y_test),1)),1))"
   ]
  },
  {
   "cell_type": "code",
   "execution_count": null,
   "id": "cd1adfcb",
   "metadata": {},
   "outputs": [],
   "source": [
    "from sklearn.metrics import r2_score\n",
    "r2_score(y_test, y_pred)"
   ]
  },
  {
   "cell_type": "markdown",
   "id": "a74e11e1",
   "metadata": {},
   "source": [
    "# Decision Tree Regression"
   ]
  },
  {
   "cell_type": "code",
   "execution_count": null,
   "id": "da55708a",
   "metadata": {},
   "outputs": [],
   "source": [
    "X = df11.iloc[:, :-1].values\n",
    "y = df11.iloc[:, -1].values"
   ]
  },
  {
   "cell_type": "code",
   "execution_count": null,
   "id": "c947e276",
   "metadata": {},
   "outputs": [],
   "source": [
    "from sklearn.model_selection import train_test_split\n",
    "X_train, X_test, y_train, y_test = train_test_split(X, y, test_size = 0.2, random_state = 0)"
   ]
  },
  {
   "cell_type": "code",
   "execution_count": null,
   "id": "39f963ab",
   "metadata": {},
   "outputs": [],
   "source": [
    "from sklearn.tree import DecisionTreeRegressor\n",
    "regressor = DecisionTreeRegressor(random_state = 0)\n",
    "regressor.fit(X_train, y_train)"
   ]
  },
  {
   "cell_type": "code",
   "execution_count": null,
   "id": "8d7f1365",
   "metadata": {},
   "outputs": [],
   "source": [
    "y_pred = regressor.predict(X_test)\n",
    "np.set_printoptions(precision=2)\n",
    "print(np.concatenate((y_pred.reshape(len(y_pred),1), y_test.reshape(len(y_test),1)),1))"
   ]
  },
  {
   "cell_type": "code",
   "execution_count": null,
   "id": "92eb5517",
   "metadata": {},
   "outputs": [],
   "source": [
    "from sklearn.metrics import r2_score\n",
    "r2_score(y_test, y_pred)"
   ]
  },
  {
   "cell_type": "markdown",
   "id": "dcd82f62",
   "metadata": {},
   "source": [
    "# Random Forest Regression"
   ]
  },
  {
   "cell_type": "code",
   "execution_count": null,
   "id": "3f729bdb",
   "metadata": {},
   "outputs": [],
   "source": [
    "X = df11.iloc[:, :-1].values\n",
    "y = df11.iloc[:, -1].values"
   ]
  },
  {
   "cell_type": "code",
   "execution_count": null,
   "id": "b2fdb4f0",
   "metadata": {},
   "outputs": [],
   "source": [
    "from sklearn.model_selection import train_test_split\n",
    "X_train, X_test, y_train, y_test = train_test_split(X, y, test_size = 0.2, random_state = 0)"
   ]
  },
  {
   "cell_type": "code",
   "execution_count": null,
   "id": "6a9ff048",
   "metadata": {},
   "outputs": [],
   "source": [
    "from sklearn.ensemble import RandomForestRegressor\n",
    "regressor = RandomForestRegressor(n_estimators = 10, random_state = 0)\n",
    "regressor.fit(X_train, y_train)"
   ]
  },
  {
   "cell_type": "code",
   "execution_count": null,
   "id": "1be60a63",
   "metadata": {},
   "outputs": [],
   "source": [
    "y_pred = regressor.predict(X_test)\n",
    "np.set_printoptions(precision=2)\n",
    "print(np.concatenate((y_pred.reshape(len(y_pred),1), y_test.reshape(len(y_test),1)),1))"
   ]
  },
  {
   "cell_type": "code",
   "execution_count": null,
   "id": "816f56b4",
   "metadata": {},
   "outputs": [],
   "source": [
    "from sklearn.metrics import r2_score\n",
    "r2_score(y_test, y_pred)"
   ]
  },
  {
   "cell_type": "code",
   "execution_count": null,
   "id": "713bef90",
   "metadata": {},
   "outputs": [],
   "source": [
    "#The impact is demonstrated through different model out of which r2_score for Random Forest Regressor is best of 0.9623 and \n",
    "# is less than previous score of0.9624\n",
    "#This shows the impact of sales due search volume trends,social trends,own price and competitor (total_post) effect"
   ]
  },
  {
   "cell_type": "markdown",
   "id": "e64ed62f",
   "metadata": {},
   "source": [
    "# The overall conclusion is demonstrated in this and it gives insight about factors which could leverage for growth of sales and profit for our client"
   ]
  },
  {
   "cell_type": "markdown",
   "id": "f1fc3c23",
   "metadata": {},
   "source": [
    "# Recommend levers for business growth"
   ]
  },
  {
   "cell_type": "code",
   "execution_count": null,
   "id": "4b4a4876",
   "metadata": {},
   "outputs": [],
   "source": [
    "df11"
   ]
  },
  {
   "cell_type": "markdown",
   "id": "4a4237c0",
   "metadata": {},
   "source": [
    "# Using EDA and Sales models, identify the themes with high business opportunity"
   ]
  },
  {
   "cell_type": "code",
   "execution_count": null,
   "id": "8a168a01",
   "metadata": {},
   "outputs": [],
   "source": [
    "df12 = pd.merge(df1,df5, on = 'claim_id', how = 'inner')"
   ]
  },
  {
   "cell_type": "code",
   "execution_count": null,
   "id": "c92e67d2",
   "metadata": {},
   "outputs": [],
   "source": [
    "df12"
   ]
  },
  {
   "cell_type": "code",
   "execution_count": null,
   "id": "48ef2d25",
   "metadata": {},
   "outputs": [],
   "source": [
    "maxs=df12.groupby('claim name')['searchvolume'].sum().reset_index().rename(columns ={'searchvolume':'grouped aggregate searchvolume'})"
   ]
  },
  {
   "cell_type": "code",
   "execution_count": null,
   "id": "23cc337b",
   "metadata": {},
   "outputs": [],
   "source": [
    "final = maxs.sort_values(by = 'grouped aggregate searchvolume',ascending = False)"
   ]
  },
  {
   "cell_type": "code",
   "execution_count": null,
   "id": "844d760a",
   "metadata": {},
   "outputs": [],
   "source": [
    "final"
   ]
  },
  {
   "cell_type": "code",
   "execution_count": null,
   "id": "56ee3abd",
   "metadata": {},
   "outputs": [],
   "source": [
    "c_labels = final['claim name']\n",
    "fig = make_subplots(rows=1, cols=1, specs=[[{'type':'domain'}]])\n",
    "fig.add_trace(go.Pie(labels=c_labels, values=df12['claim name'].value_counts(), name=\"Theme\"),\n",
    "              1, 1)\n",
    "fig.update_traces(hole=.4, hoverinfo=\"label+percent+name\", textfont_size=16)\n",
    "\n",
    "fig.update_layout(\n",
    "    title_text=\"Theme distribution\",\n",
    "    annotations=[dict(text='Theme', x=0.84, y=0.5, font_size=20, showarrow=False)])\n",
    "fig.show()\n",
    "\n"
   ]
  },
  {
   "cell_type": "code",
   "execution_count": null,
   "id": "6e0dccd7",
   "metadata": {},
   "outputs": [],
   "source": [
    "maxs=df12.groupby('claim name')['searchvolume'].sum().reset_index().rename(columns ={'searchvolume':'grouped aggregate searchvolume'}).plot.bar(figsize=(20,20))"
   ]
  },
  {
   "cell_type": "code",
   "execution_count": null,
   "id": "4e0fee80",
   "metadata": {},
   "outputs": [],
   "source": [
    "year_df = pd.DataFrame(df12['claim name'].value_counts()).reset_index()\n",
    "year_df.columns = ['claim name', 'year_new']"
   ]
  },
  {
   "cell_type": "code",
   "execution_count": null,
   "id": "8285efa7",
   "metadata": {},
   "outputs": [],
   "source": [
    "sns.barplot(x='claim name', y='year_new', data=year_df)"
   ]
  },
  {
   "cell_type": "code",
   "execution_count": null,
   "id": "320535af",
   "metadata": {},
   "outputs": [],
   "source": [
    "\n",
    "df12"
   ]
  },
  {
   "cell_type": "code",
   "execution_count": null,
   "id": "179e99ee",
   "metadata": {},
   "outputs": [],
   "source": [
    "df12"
   ]
  },
  {
   "cell_type": "code",
   "execution_count": null,
   "id": "cc726a20",
   "metadata": {},
   "outputs": [],
   "source": [
    "df3"
   ]
  },
  {
   "cell_type": "code",
   "execution_count": null,
   "id": "54b7bc82",
   "metadata": {},
   "outputs": [],
   "source": [
    "df6"
   ]
  },
  {
   "cell_type": "code",
   "execution_count": null,
   "id": "0319c97e",
   "metadata": {},
   "outputs": [],
   "source": [
    "di = dict(zip(df6['claim_id'],df6['product_id']))"
   ]
  },
  {
   "cell_type": "code",
   "execution_count": null,
   "id": "c32db4e8",
   "metadata": {},
   "outputs": [],
   "source": [
    "df12['product_id'] = df12['claim_id'].map(di)"
   ]
  },
  {
   "cell_type": "code",
   "execution_count": null,
   "id": "233e02d9",
   "metadata": {},
   "outputs": [],
   "source": [
    "d1 = dict(zip(df3['product_id'],df3['sales_dollars_value']))"
   ]
  },
  {
   "cell_type": "code",
   "execution_count": null,
   "id": "63dbff79",
   "metadata": {},
   "outputs": [],
   "source": [
    "d2 = dict(zip(df3['product_id'],df3['sales_lbs_value']))"
   ]
  },
  {
   "cell_type": "code",
   "execution_count": null,
   "id": "7174cb7c",
   "metadata": {},
   "outputs": [],
   "source": [
    "d3 = dict(zip(df3['product_id'],df3['sales_units_value']))"
   ]
  },
  {
   "cell_type": "code",
   "execution_count": null,
   "id": "07b02ad4",
   "metadata": {},
   "outputs": [],
   "source": [
    "df12['sales_dollars_value'] = df12['product_id'].map(d1)"
   ]
  },
  {
   "cell_type": "code",
   "execution_count": null,
   "id": "0dd1ca34",
   "metadata": {},
   "outputs": [],
   "source": [
    "df12['sales_lbs_value'] = df12['product_id'].map(d2)"
   ]
  },
  {
   "cell_type": "code",
   "execution_count": null,
   "id": "eee45413",
   "metadata": {},
   "outputs": [],
   "source": [
    "df12['product_units_value'] = df12['product_id'].map(d3)"
   ]
  },
  {
   "cell_type": "code",
   "execution_count": null,
   "id": "4d40d82b",
   "metadata": {},
   "outputs": [],
   "source": [
    "df12"
   ]
  },
  {
   "cell_type": "code",
   "execution_count": null,
   "id": "38a54159",
   "metadata": {},
   "outputs": [],
   "source": [
    "maxs1=df12.groupby('claim name')['sales_dollars_value'].sum().reset_index().rename(columns ={'sales_dollars_value':'grouped aggregate sales dollar value'})"
   ]
  },
  {
   "cell_type": "code",
   "execution_count": null,
   "id": "74d46709",
   "metadata": {},
   "outputs": [],
   "source": [
    "final1 = maxs1.sort_values(by = 'grouped aggregate sales dollar value',ascending = False)"
   ]
  },
  {
   "cell_type": "code",
   "execution_count": null,
   "id": "08c58c15",
   "metadata": {},
   "outputs": [],
   "source": [
    "final1"
   ]
  },
  {
   "cell_type": "code",
   "execution_count": null,
   "id": "7d13f127",
   "metadata": {},
   "outputs": [],
   "source": [
    "maxs2=df12.groupby('claim name')['sales_dollars_value'].sum()"
   ]
  },
  {
   "cell_type": "code",
   "execution_count": null,
   "id": "50e7e166",
   "metadata": {},
   "outputs": [],
   "source": [
    "final2 = maxs2.sort_values(ascending = False)"
   ]
  },
  {
   "cell_type": "code",
   "execution_count": null,
   "id": "5aec14bd",
   "metadata": {
    "scrolled": true
   },
   "outputs": [],
   "source": [
    "final2.plot(kind='pie',y='value_column',autopct='%1.0f%%')"
   ]
  },
  {
   "cell_type": "code",
   "execution_count": null,
   "id": "a96a670a",
   "metadata": {},
   "outputs": [],
   "source": [
    "maxs2=df12.groupby('claim name')['sales_lbs_value'].sum().reset_index().rename(columns ={'sales_lbs_value':'grouped aggregate sales lbs value'})"
   ]
  },
  {
   "cell_type": "code",
   "execution_count": null,
   "id": "a55cbadd",
   "metadata": {},
   "outputs": [],
   "source": [
    "final2 = maxs2.sort_values(by = 'grouped aggregate sales lbs value',ascending = False)"
   ]
  },
  {
   "cell_type": "code",
   "execution_count": null,
   "id": "b0756bde",
   "metadata": {},
   "outputs": [],
   "source": [
    "final2"
   ]
  },
  {
   "cell_type": "code",
   "execution_count": null,
   "id": "7c4c1b1d",
   "metadata": {},
   "outputs": [],
   "source": [
    "# The sales dollar value and sales lbs value for low carb is highest hence can be most popular theme for high business opportunity but searchvolume for ethical\n",
    "# environment theme is maximum so there can be possibility of its being most popular theme for high business opportunity."
   ]
  },
  {
   "cell_type": "markdown",
   "id": "edd46d36",
   "metadata": {},
   "source": [
    "# What are the controllable factors which client could leverage to increase sales across themes?"
   ]
  },
  {
   "cell_type": "code",
   "execution_count": null,
   "id": "22ddaa1d",
   "metadata": {},
   "outputs": [],
   "source": [
    "from sklearn.feature_selection import mutual_info_regression\n",
    "mutual_info = mutual_info_regression(X_train,y_train)"
   ]
  },
  {
   "cell_type": "code",
   "execution_count": null,
   "id": "51618a5b",
   "metadata": {},
   "outputs": [],
   "source": [
    "mutual_info"
   ]
  },
  {
   "cell_type": "code",
   "execution_count": null,
   "id": "26c13ac8",
   "metadata": {},
   "outputs": [],
   "source": [
    "# The mutual info score for sales_lbs_value is 1.4 and highest among all hence can be chosen as controllable factor to increase\n",
    "# sales across themes"
   ]
  },
  {
   "cell_type": "markdown",
   "id": "e32aef22",
   "metadata": {},
   "source": [
    "# How to achieve a 5% increase in sales overall?"
   ]
  },
  {
   "cell_type": "code",
   "execution_count": null,
   "id": "c17456e5",
   "metadata": {
    "scrolled": true
   },
   "outputs": [],
   "source": [
    "df11.corr()"
   ]
  },
  {
   "cell_type": "code",
   "execution_count": null,
   "id": "69409ac2",
   "metadata": {},
   "outputs": [],
   "source": [
    "# The highest corrletaion factor is between sales_lbs_value and and sales_dollars_value therefore increasing the sales_lbs_value \n",
    "# can help in increasing sales by 5%"
   ]
  },
  {
   "cell_type": "code",
   "execution_count": null,
   "id": "31218251",
   "metadata": {},
   "outputs": [],
   "source": [
    "#Secondaly mutual_info_regression score is max for sales_lbs_value as calcuted above there sales_lbs_value can leverage for\n",
    "# increasing sales by 5%"
   ]
  }
 ],
 "metadata": {
  "kernelspec": {
   "display_name": "Python 3 (ipykernel)",
   "language": "python",
   "name": "python3"
  },
  "language_info": {
   "codemirror_mode": {
    "name": "ipython",
    "version": 3
   },
   "file_extension": ".py",
   "mimetype": "text/x-python",
   "name": "python",
   "nbconvert_exporter": "python",
   "pygments_lexer": "ipython3",
   "version": "3.9.7"
  }
 },
 "nbformat": 4,
 "nbformat_minor": 5
}
